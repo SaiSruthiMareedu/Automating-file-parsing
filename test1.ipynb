{
 "cells": [
  {
   "cell_type": "code",
   "execution_count": 26,
   "metadata": {},
   "outputs": [],
   "source": [
    "import re\n",
    "import json\n",
    "import fileinput"
   ]
  },
  {
   "cell_type": "code",
   "execution_count": 41,
   "metadata": {},
   "outputs": [],
   "source": [
    "f= open(\"consul_with_error.txt\",\"r\")"
   ]
  },
  {
   "cell_type": "code",
   "execution_count": null,
   "metadata": {},
   "outputs": [],
   "source": [
    "# cleaning the text "
   ]
  },
  {
   "cell_type": "code",
   "execution_count": 42,
   "metadata": {},
   "outputs": [],
   "source": [
    "f2 = open(\"cleaned.txt\",\"w\")\n",
    "for line in f:\n",
    "#     line = line.replace('[root@vos-idb18-test10.naw01.spdev.viasat.io /home/deployuser]')\n",
    "    line = line.replace('[root@vos-idb18-test10.naw01.spdev.viasat.io /home/deployuser]','')\n",
    "    if not line.startswith('#'):\n",
    "        if not line.isspace():\n",
    "            f2.write(line)\n",
    "        \n",
    "f2.close()"
   ]
  },
  {
   "cell_type": "code",
   "execution_count": 43,
   "metadata": {},
   "outputs": [],
   "source": [
    "# parsing the string to json format "
   ]
  },
  {
   "cell_type": "code",
   "execution_count": 45,
   "metadata": {},
   "outputs": [],
   "source": [
    "f3 = open('cleaned.txt','r')\n",
    "for i in f3:   \n",
    "    if len(i) != 0:   \n",
    "        a = json.loads(i)\n",
    "     "
   ]
  },
  {
   "cell_type": "code",
   "execution_count": 46,
   "metadata": {},
   "outputs": [
    {
     "data": {
      "text/plain": [
       "22"
      ]
     },
     "execution_count": 46,
     "metadata": {},
     "output_type": "execute_result"
    }
   ],
   "source": [
    "len(a)"
   ]
  },
  {
   "cell_type": "code",
   "execution_count": null,
   "metadata": {},
   "outputs": [],
   "source": [
    "# Logic to find the values of ServiceID and VLocationId and find the "
   ]
  },
  {
   "cell_type": "code",
   "execution_count": 53,
   "metadata": {
    "scrolled": false
   },
   "outputs": [
    {
     "name": "stdout",
     "output_type": "stream",
     "text": [
      "334056 334052\n",
      "334052 334052\n",
      "{'Node': {'ID': '638ff3ea-66f0-fb03-b90c-2a58086119ea', 'Node': 'spdev-gold-vwa-074-alpha-11', 'Address': '10.88.192.80', 'Datacenter': 'naw02', 'TaggedAddresses': {'lan': '10.88.192.80', 'wan': '10.88.192.80'}, 'Meta': {}, 'CreateIndex': 206501625, 'ModifyIndex': 206502237}, 'Service': {'ID': '334056', 'Service': 'vwa-vos-svc', 'Tags': ['ServiceName_vwa', 'LocationId_334056', 'NetworkId_428837', 'VmUuid_6c0ccd24-5b59-11e9-914a-525400123457', 'TenantId_viasat', 'VLocationId_334056', 'UpstreamIntf_eth2', 'UpstreamMac_de:ad:03:a6:00:ec', 'DownstreamIntf_eth3', 'DownstreamMac_de:ad:03:a6:00:ed', 'BsControlIp_', 'BsDataIp_', 'NodeState_active', 'PNode_14', 'VNode_14', 'NodeType_IPP'], 'Address': '', 'Port': 0, 'EnableTagOverride': False, 'CreateIndex': 219444275, 'ModifyIndex': 219444275}, 'Checks': [{'Node': 'spdev-gold-vwa-074-alpha-11', 'CheckID': 'serfHealth', 'Name': 'Serf Health Status', 'Status': 'passing', 'Notes': '', 'Output': 'Agent alive and reachable', 'ServiceID': '', 'ServiceName': '', 'ServiceTags': [], 'CreateIndex': 206501625, 'ModifyIndex': 219781891}, {'Node': 'spdev-gold-vwa-074-alpha-11', 'CheckID': 'service:334056', 'Name': \"Service 'vwa-vos-svc' check\", 'Status': 'passing', 'Notes': 'vos health check runs every 3sec on vm to pass/fail ttl check', 'Output': '', 'ServiceID': '334056', 'ServiceName': 'vwa-vos-svc', 'ServiceTags': ['ServiceName_vwa', 'LocationId_334056', 'NetworkId_428837', 'VmUuid_6c0ccd24-5b59-11e9-914a-525400123457', 'TenantId_viasat', 'VLocationId_334052', 'UpstreamIntf_eth2', 'UpstreamMac_de:ad:03:a6:00:ec', 'DownstreamIntf_eth3', 'DownstreamMac_de:ad:03:a6:00:ed', 'BsControlIp_', 'BsDataIp_', 'NodeState_active', 'PNode_14', 'VNode_14', 'NodeType_IPP'], 'CreateIndex': 219444275, 'ModifyIndex': 219444275}]}\n",
      "{'Node': {'ID': '7f17683a-2a81-30fe-ac40-78acfc83f120', 'Node': 'spdev-gold-vwa-074-alpha-10', 'Address': '10.88.192.78', 'Datacenter': 'naw02', 'TaggedAddresses': {'lan': '10.88.192.78', 'wan': '10.88.192.78'}, 'Meta': {}, 'CreateIndex': 206501625, 'ModifyIndex': 206501739}, 'Service': {'ID': '334052', 'Service': 'vwa-vos-svc', 'Tags': ['ServiceName_vwa', 'LocationId_334052', 'NetworkId_428837', 'VmUuid_6c0c47e6-5b59-11e9-914a-525400123457', 'TenantId_viasat', 'VLocationId_334052', 'UpstreamIntf_eth2', 'UpstreamMac_de:ad:03:a6:00:e8', 'DownstreamIntf_eth3', 'DownstreamMac_de:ad:03:a6:00:e9', 'BsControlIp_', 'BsDataIp_', 'NodeState_active', 'PNode_13', 'VNode_13', 'NodeType_IPP'], 'Address': '', 'Port': 0, 'EnableTagOverride': False, 'CreateIndex': 219612307, 'ModifyIndex': 219612307}, 'Checks': [{'Node': 'spdev-gold-vwa-074-alpha-10', 'CheckID': 'serfHealth', 'Name': 'Serf Health Status', 'Status': 'passing', 'Notes': '', 'Output': 'Agent alive and reachable', 'ServiceID': '', 'ServiceName': '', 'ServiceTags': [], 'CreateIndex': 206501625, 'ModifyIndex': 219701880}, {'Node': 'spdev-gold-vwa-074-alpha-10', 'CheckID': 'service:334052', 'Name': \"Service 'vwa-vos-svc' check\", 'Status': 'passing', 'Notes': 'vos health check runs every 3sec on vm to pass/fail ttl check', 'Output': '', 'ServiceID': '334052', 'ServiceName': 'vwa-vos-svc', 'ServiceTags': ['ServiceName_vwa', 'LocationId_334052', 'NetworkId_428837', 'VmUuid_6c0c47e6-5b59-11e9-914a-525400123457', 'TenantId_viasat', 'VLocationId_334052', 'UpstreamIntf_eth2', 'UpstreamMac_de:ad:03:a6:00:e8', 'DownstreamIntf_eth3', 'DownstreamMac_de:ad:03:a6:00:e9', 'BsControlIp_', 'BsDataIp_', 'NodeState_active', 'PNode_13', 'VNode_13', 'NodeType_IPP'], 'CreateIndex': 219612307, 'ModifyIndex': 219612307}]}\n"
     ]
    }
   ],
   "source": [
    "i = 0\n",
    "j = -1\n",
    "indexed_list = []\n",
    "for node in a:\n",
    "    j = j + 1\n",
    "    inner_loop = node['Checks']\n",
    "    main = inner_loop[1]\n",
    "    \n",
    "    \n",
    "    value1 = main['ServiceID']\n",
    "    if value1 != '':\n",
    "        value2 = main['ServiceTags']    \n",
    "        val = value2[5].strip('VLocationId_')\n",
    "        if len(indexed_list) ==0 :\n",
    "            tup = (value1, val, j)\n",
    "            indexed_list.append(tup)\n",
    "        else:\n",
    "            flag = 0\n",
    "            for tuple1 in indexed_list:\n",
    "                \n",
    "                if value1 != tuple1[0] and val == tuple1[1]:\n",
    "                    \n",
    "                    locate = tuple1\n",
    "                    flag = 1\n",
    "                    print(value1+ \" \" +tuple1[0])\n",
    "                    print(val +\" \" + tuple1[1])\n",
    "                    break\n",
    "                if value1 == tuple1[0] and val != tuple1[1]:\n",
    "                    locate = tuple1\n",
    "                    flag = 1\n",
    "                    break\n",
    "                if value1 == tuple1[0] and val == tuple1[1]:\n",
    "                    flag = 2\n",
    "                    break\n",
    "            if flag == 0:\n",
    "                tup = (value1, val, j)\n",
    "                indexed_list.append(tup)\n",
    "            if flag == 1:\n",
    "                print(a[j])\n",
    "                k = locate[2]\n",
    "                print(a[k])\n",
    "                tup = (value1, val, j)\n",
    "                indexed_list.append(tup)\n",
    "        \n",
    "\n"
   ]
  },
  {
   "cell_type": "code",
   "execution_count": 52,
   "metadata": {},
   "outputs": [
    {
     "data": {
      "text/plain": [
       "[('187753', '187752', 0),\n",
       " ('361754', '361544', 2),\n",
       " ('358383', '358383', 3),\n",
       " ('358384', '358384', 4),\n",
       " ('358385', '358385', 5),\n",
       " ('293755', '334057', 6),\n",
       " ('293753', '334058', 7),\n",
       " ('293756', '186549', 8),\n",
       " ('293754', '186548', 9),\n",
       " ('334054', '334054', 12),\n",
       " ('334050', '334050', 13),\n",
       " ('334055', '334055', 14),\n",
       " ('334051', '334051', 15),\n",
       " ('334052', '334052', 16),\n",
       " ('334056', '334052', 17),\n",
       " ('334057', '186551', 18),\n",
       " ('2366', '2364', 19),\n",
       " ('2363', '2363', 20),\n",
       " ('2365', '2365', 21)]"
      ]
     },
     "execution_count": 52,
     "metadata": {},
     "output_type": "execute_result"
    }
   ],
   "source": [
    "indexed_list"
   ]
  }
 ],
 "metadata": {
  "kernelspec": {
   "display_name": "Python 3",
   "language": "python",
   "name": "python3"
  },
  "language_info": {
   "codemirror_mode": {
    "name": "ipython",
    "version": 3
   },
   "file_extension": ".py",
   "mimetype": "text/x-python",
   "name": "python",
   "nbconvert_exporter": "python",
   "pygments_lexer": "ipython3",
   "version": "3.7.3"
  }
 },
 "nbformat": 4,
 "nbformat_minor": 2
}
